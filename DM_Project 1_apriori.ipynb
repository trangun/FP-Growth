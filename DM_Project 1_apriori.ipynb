{
 "cells": [
  {
   "cell_type": "markdown",
   "metadata": {},
   "source": [
    "Using a programming language that you are familiar with, such as C++ or Java, implement three frequent itemset mining algorithms\n",
    "introduced in this chapter: (1) Apriori [AS94b], (2) FP-growth [HPY00]. (mining using the vertical data format). Compare the performance of each algorithm with various kinds of large data sets. Write a report to\n",
    "analyze the situations (e.g., data size, data distribution, minimal support threshold\n",
    "setting, and pattern density) where one algorithm may perform better than the\n",
    "others, and state why."
   ]
  },
  {
   "cell_type": "markdown",
   "metadata": {},
   "source": [
    "Reference: https://rdrr.io/cran/arules/man/Adult.html"
   ]
  },
  {
   "cell_type": "code",
   "execution_count": 24,
   "metadata": {},
   "outputs": [],
   "source": [
    "import datetime as dt\n",
    "import pandas as pd\n",
    "import numpy as np\n",
    "import random as rand\n",
    "import csv\n",
    "import time\n",
    "import copy\n",
    "from itertools import combinations\n"
   ]
  },
  {
   "cell_type": "code",
   "execution_count": 25,
   "metadata": {
    "scrolled": true
   },
   "outputs": [
    {
     "data": {
      "text/html": [
       "<div>\n",
       "<style scoped>\n",
       "    .dataframe tbody tr th:only-of-type {\n",
       "        vertical-align: middle;\n",
       "    }\n",
       "\n",
       "    .dataframe tbody tr th {\n",
       "        vertical-align: top;\n",
       "    }\n",
       "\n",
       "    .dataframe thead th {\n",
       "        text-align: right;\n",
       "    }\n",
       "</style>\n",
       "<table border=\"1\" class=\"dataframe\">\n",
       "  <thead>\n",
       "    <tr style=\"text-align: right;\">\n",
       "      <th></th>\n",
       "      <th>Age</th>\n",
       "      <th>Workclass</th>\n",
       "      <th>fnlwgt</th>\n",
       "      <th>education</th>\n",
       "      <th>education_num</th>\n",
       "      <th>marital status</th>\n",
       "      <th>occupation</th>\n",
       "      <th>relationship</th>\n",
       "      <th>Race</th>\n",
       "      <th>Sex</th>\n",
       "      <th>capital_gain</th>\n",
       "      <th>capital_loss</th>\n",
       "      <th>hours_per_week</th>\n",
       "      <th>native country</th>\n",
       "      <th>income</th>\n",
       "    </tr>\n",
       "  </thead>\n",
       "  <tbody>\n",
       "    <tr>\n",
       "      <th>0</th>\n",
       "      <td>39</td>\n",
       "      <td>State-gov</td>\n",
       "      <td>77516</td>\n",
       "      <td>Bachelors</td>\n",
       "      <td>13</td>\n",
       "      <td>Never-married</td>\n",
       "      <td>Adm-clerical</td>\n",
       "      <td>Not-in-family</td>\n",
       "      <td>White</td>\n",
       "      <td>Male</td>\n",
       "      <td>2174</td>\n",
       "      <td>0</td>\n",
       "      <td>40</td>\n",
       "      <td>United-States</td>\n",
       "      <td>&lt;=50K</td>\n",
       "    </tr>\n",
       "    <tr>\n",
       "      <th>1</th>\n",
       "      <td>50</td>\n",
       "      <td>Self-emp-not-inc</td>\n",
       "      <td>83311</td>\n",
       "      <td>Bachelors</td>\n",
       "      <td>13</td>\n",
       "      <td>Married-civ-spouse</td>\n",
       "      <td>Exec-managerial</td>\n",
       "      <td>Husband</td>\n",
       "      <td>White</td>\n",
       "      <td>Male</td>\n",
       "      <td>0</td>\n",
       "      <td>0</td>\n",
       "      <td>13</td>\n",
       "      <td>United-States</td>\n",
       "      <td>&lt;=50K</td>\n",
       "    </tr>\n",
       "    <tr>\n",
       "      <th>2</th>\n",
       "      <td>38</td>\n",
       "      <td>Private</td>\n",
       "      <td>215646</td>\n",
       "      <td>HS-grad</td>\n",
       "      <td>9</td>\n",
       "      <td>Divorced</td>\n",
       "      <td>Handlers-cleaners</td>\n",
       "      <td>Not-in-family</td>\n",
       "      <td>White</td>\n",
       "      <td>Male</td>\n",
       "      <td>0</td>\n",
       "      <td>0</td>\n",
       "      <td>40</td>\n",
       "      <td>United-States</td>\n",
       "      <td>&lt;=50K</td>\n",
       "    </tr>\n",
       "    <tr>\n",
       "      <th>3</th>\n",
       "      <td>53</td>\n",
       "      <td>Private</td>\n",
       "      <td>234721</td>\n",
       "      <td>11th</td>\n",
       "      <td>7</td>\n",
       "      <td>Married-civ-spouse</td>\n",
       "      <td>Handlers-cleaners</td>\n",
       "      <td>Husband</td>\n",
       "      <td>Black</td>\n",
       "      <td>Male</td>\n",
       "      <td>0</td>\n",
       "      <td>0</td>\n",
       "      <td>40</td>\n",
       "      <td>United-States</td>\n",
       "      <td>&lt;=50K</td>\n",
       "    </tr>\n",
       "    <tr>\n",
       "      <th>4</th>\n",
       "      <td>28</td>\n",
       "      <td>Private</td>\n",
       "      <td>338409</td>\n",
       "      <td>Bachelors</td>\n",
       "      <td>13</td>\n",
       "      <td>Married-civ-spouse</td>\n",
       "      <td>Prof-specialty</td>\n",
       "      <td>Wife</td>\n",
       "      <td>Black</td>\n",
       "      <td>Female</td>\n",
       "      <td>0</td>\n",
       "      <td>0</td>\n",
       "      <td>40</td>\n",
       "      <td>Cuba</td>\n",
       "      <td>&lt;=50K</td>\n",
       "    </tr>\n",
       "  </tbody>\n",
       "</table>\n",
       "</div>"
      ],
      "text/plain": [
       "   Age         Workclass  fnlwgt  education  education_num  \\\n",
       "0   39         State-gov   77516  Bachelors             13   \n",
       "1   50  Self-emp-not-inc   83311  Bachelors             13   \n",
       "2   38           Private  215646    HS-grad              9   \n",
       "3   53           Private  234721       11th              7   \n",
       "4   28           Private  338409  Bachelors             13   \n",
       "\n",
       "       marital status         occupation   relationship   Race     Sex  \\\n",
       "0       Never-married       Adm-clerical  Not-in-family  White    Male   \n",
       "1  Married-civ-spouse    Exec-managerial        Husband  White    Male   \n",
       "2            Divorced  Handlers-cleaners  Not-in-family  White    Male   \n",
       "3  Married-civ-spouse  Handlers-cleaners        Husband  Black    Male   \n",
       "4  Married-civ-spouse     Prof-specialty           Wife  Black  Female   \n",
       "\n",
       "   capital_gain  capital_loss  hours_per_week native country income  \n",
       "0          2174             0              40  United-States  <=50K  \n",
       "1             0             0              13  United-States  <=50K  \n",
       "2             0             0              40  United-States  <=50K  \n",
       "3             0             0              40  United-States  <=50K  \n",
       "4             0             0              40           Cuba  <=50K  "
      ]
     },
     "execution_count": 25,
     "metadata": {},
     "output_type": "execute_result"
    }
   ],
   "source": [
    "#dataset test\n",
    "file = r'E:\\School\\@Grad School\\Data Mining\\Project 1\\adult.data'\n",
    "#file.read()\n",
    "\n",
    "df = pd.read_csv(file, sep=',',\n",
    "                 names=[\"Age\", \"Workclass\", \"fnlwgt\",\"education\", \"education_num\",\n",
    "                        \"marital status\",\"occupation\",\"relationship\",\"Race\",\"Sex\",\n",
    "                        \"capital_gain\",\"capital_loss\",\"hours_per_week\",\"native country\",\n",
    "                        \"income\"],\n",
    "                 skipinitialspace=True)\n",
    "df.head()\n",
    "\n"
   ]
  },
  {
   "cell_type": "code",
   "execution_count": 26,
   "metadata": {},
   "outputs": [],
   "source": [
    "def clean_data(df):\n",
    "    df= df.applymap(lambda x: np.nan if x == '?' else x)\n",
    "    df=df.dropna(axis=0)\n",
    "    df.drop('fnlwgt', axis=1, inplace=True)\n",
    "    df.drop('education_num', axis=1, inplace=True)\n",
    "    df['Age'] = pd.cut(df['Age'], [0, 26, 46, 66,100], \n",
    "                        labels = ['Young', 'Middle-aged', 'Senior', 'Old'], \n",
    "                        right = True, include_lowest = True)\n",
    "    df['hours_per_week'] = pd.cut(df['hours_per_week'], [0, 25, 40, 60, 100], \n",
    "                              labels = ['Part-time', 'Full-time', 'Over-time', 'Too-much'], \n",
    "                              right = True, include_lowest = True)\n",
    "    df['capital_gain'] = pd.cut(df['capital_gain'], [0, 1, 10000000], \n",
    "                           labels = ['No-Gain', 'Positive-Gain'], \n",
    "                           right = True, include_lowest = True)\n",
    "    df['capital_loss'] = pd.cut(df['capital_loss'], [0, 1, 10000000],\n",
    "                            labels = ['No-Loss', 'Positive-Loss'], \n",
    "                            right = True, include_lowest = True)\n",
    "\n",
    "\n",
    "    return df\n",
    "\n"
   ]
  },
  {
   "cell_type": "code",
   "execution_count": 27,
   "metadata": {},
   "outputs": [],
   "source": [
    "data = [['M', 'O', 'N', 'K', 'E', 'Y'], \n",
    "            ['D', 'O', 'N', 'K', 'E', 'Y'], \n",
    "            ['M', 'A', 'K', 'E'],\n",
    "            ['M', 'U', 'C', 'K', 'Y'],\n",
    "            ['C', 'O', 'O', 'K', 'I', 'E']]\n",
    "\n",
    "def open_data():\n",
    "    \n",
    "    \n",
    "    data = clean_data(df)\n",
    "    dataset= data.values.tolist()\n",
    "    return dataset\n",
    "dataset= open_data()\n",
    "dataset;"
   ]
  },
  {
   "cell_type": "code",
   "execution_count": 28,
   "metadata": {},
   "outputs": [],
   "source": [
    "#obtain C1 with support count\n",
    "\n",
    "\n",
    "def obtain_C1(dataset):\n",
    "    C1 = {}\n",
    "    for item in dataset:\n",
    "        for itemset in item:\n",
    "            if itemset in C1:\n",
    "                C1[itemset] += 1\n",
    "            elif itemset not in C1:\n",
    "                C1[itemset] = 1\n",
    "    return C1\n",
    "            \n",
    "            \n",
    "C1=obtain_C1(open_data())\n",
    "C1;"
   ]
  },
  {
   "cell_type": "code",
   "execution_count": 29,
   "metadata": {
    "scrolled": true
   },
   "outputs": [
    {
     "data": {
      "text/plain": [
       "['White', 'Male', 'No-Loss', 'United-States', '<=50K', 'No-Gain', 'Private']"
      ]
     },
     "execution_count": 29,
     "metadata": {},
     "output_type": "execute_result"
    }
   ],
   "source": [
    "#implement 1-itemset\n",
    "def gen_L1 (min_sup):\n",
    "    L1 = []\n",
    "    num_items = float(len(dataset))\n",
    "    #print(num_items)\n",
    "    for item in C1:\n",
    "        support = C1[item]/num_items\n",
    "        if support >= min_sup:\n",
    "            L1.append(item)\n",
    "    return L1\n",
    "            \n",
    "L1=gen_L1(0.6)\n",
    "L1"
   ]
  },
  {
   "cell_type": "code",
   "execution_count": 30,
   "metadata": {},
   "outputs": [],
   "source": [
    "# c: candidate k-itemset, L: frequent (k-1)-itemsets, k: # of c\n",
    "def has_infrequent_subset(c, L):\n",
    "    k= len(c)\n",
    "    for subset in list(combinations(c,k-1)):\n",
    "        if subset not in L:\n",
    "            return True\n",
    "    return False\n",
    "\n",
    "\n",
    "#generate Ck\n",
    "def apriori_gen(L, k):  \n",
    "    Ck = list(combinations(L, k))\n",
    "    #Ck = []\n",
    "    lenL = len(L)\n",
    "    \n",
    "    return Ck\n",
    "\n",
    "apriori_gen(L1,2);"
   ]
  },
  {
   "cell_type": "code",
   "execution_count": 31,
   "metadata": {},
   "outputs": [],
   "source": [
    "#find Lk\n",
    "def prune (dt, Ck, min_sup):\n",
    "    count={}\n",
    "        \n",
    "    for item in dt:\n",
    "        for itemset in Ck:\n",
    "            if set(itemset).issubset(item):\n",
    "                if itemset in count:\n",
    "                    count[itemset] += 1\n",
    "                else:\n",
    "                    count[itemset] = 1\n",
    "    #generate Lk \n",
    "    num_items = float(len(dt))\n",
    "    Lk = []\n",
    "    #copy_count = copy.deepcopy(count)\n",
    "    for itemset in count:\n",
    "        support = count[itemset]/num_items\n",
    "        if support >= min_sup:\n",
    "            Lk.append(itemset)\n",
    "            \n",
    "            \n",
    "    return Lk\n"
   ]
  },
  {
   "cell_type": "code",
   "execution_count": 32,
   "metadata": {},
   "outputs": [],
   "source": [
    "def apriori(dataset, min_sup=0.8):\n",
    "    C1 = obtain_C1(dataset)\n",
    "    D= dataset\n",
    "    L1= gen_L1(min_sup)\n",
    "    #Lk=[]\n",
    "    #count={}\n",
    "    L =[]\n",
    "    L.append(L1)\n",
    "    k=2\n",
    "    while len(L[k-2]) >0:    \n",
    "        Ck =  apriori_gen(L1, k)\n",
    "        Lk = prune(dataset, Ck, min_sup)\n",
    "\n",
    "        L.append(Lk)\n",
    "        k+=1\n",
    "    #return L, support_data\n",
    "    return L[0:len(L)-1]\n",
    "                "
   ]
  },
  {
   "cell_type": "code",
   "execution_count": 33,
   "metadata": {
    "scrolled": false
   },
   "outputs": [
    {
     "data": {
      "text/plain": [
       "0.37223243713378906"
      ]
     },
     "execution_count": 33,
     "metadata": {},
     "output_type": "execute_result"
    }
   ],
   "source": [
    "start = time.time()\n",
    "apriori(dataset,0.8)\n",
    "run = time.time() -start\n",
    "run"
   ]
  },
  {
   "cell_type": "code",
   "execution_count": 34,
   "metadata": {},
   "outputs": [
    {
     "data": {
      "text/plain": [
       "[['White', 'No-Loss', 'United-States', 'No-Gain'],\n",
       " [('White', 'No-Loss'),\n",
       "  ('White', 'United-States'),\n",
       "  ('No-Loss', 'United-States'),\n",
       "  ('No-Loss', 'No-Gain'),\n",
       "  ('United-States', 'No-Gain')]]"
      ]
     },
     "execution_count": 34,
     "metadata": {},
     "output_type": "execute_result"
    }
   ],
   "source": [
    "apriori(dataset)"
   ]
  }
 ],
 "metadata": {
  "kernelspec": {
   "display_name": "Python 3",
   "language": "python",
   "name": "python3"
  },
  "language_info": {
   "codemirror_mode": {
    "name": "ipython",
    "version": 3
   },
   "file_extension": ".py",
   "mimetype": "text/x-python",
   "name": "python",
   "nbconvert_exporter": "python",
   "pygments_lexer": "ipython3",
   "version": "3.7.0"
  }
 },
 "nbformat": 4,
 "nbformat_minor": 2
}
