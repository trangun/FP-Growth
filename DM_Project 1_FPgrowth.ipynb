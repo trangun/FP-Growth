{
 "cells": [
  {
   "cell_type": "markdown",
   "metadata": {},
   "source": [
    "Reference:\n",
    "http://csc.lsu.edu/~jianhua/FPGrowth.pdf\n",
    "https://adataanalyst.com/machine-learning/fp-growth-algorithm-python-3/\n"
   ]
  },
  {
   "cell_type": "code",
   "execution_count": 20,
   "metadata": {},
   "outputs": [],
   "source": [
    "import datetime as dt\n",
    "import pandas as pd\n",
    "import numpy as np\n",
    "import random as rand\n",
    "import operator\n",
    "import csv\n",
    "import time\n",
    "import copy\n",
    "import collections\n",
    "from itertools import combinations"
   ]
  },
  {
   "cell_type": "code",
   "execution_count": 21,
   "metadata": {
    "scrolled": true
   },
   "outputs": [
    {
     "data": {
      "text/html": [
       "<div>\n",
       "<style scoped>\n",
       "    .dataframe tbody tr th:only-of-type {\n",
       "        vertical-align: middle;\n",
       "    }\n",
       "\n",
       "    .dataframe tbody tr th {\n",
       "        vertical-align: top;\n",
       "    }\n",
       "\n",
       "    .dataframe thead th {\n",
       "        text-align: right;\n",
       "    }\n",
       "</style>\n",
       "<table border=\"1\" class=\"dataframe\">\n",
       "  <thead>\n",
       "    <tr style=\"text-align: right;\">\n",
       "      <th></th>\n",
       "      <th>Age</th>\n",
       "      <th>Workclass</th>\n",
       "      <th>fnlwgt</th>\n",
       "      <th>education</th>\n",
       "      <th>education_num</th>\n",
       "      <th>marital status</th>\n",
       "      <th>occupation</th>\n",
       "      <th>relationship</th>\n",
       "      <th>Race</th>\n",
       "      <th>Sex</th>\n",
       "      <th>capital_gain</th>\n",
       "      <th>capital_loss</th>\n",
       "      <th>hours_per_week</th>\n",
       "      <th>native country</th>\n",
       "      <th>income</th>\n",
       "    </tr>\n",
       "  </thead>\n",
       "  <tbody>\n",
       "    <tr>\n",
       "      <th>0</th>\n",
       "      <td>39</td>\n",
       "      <td>State-gov</td>\n",
       "      <td>77516</td>\n",
       "      <td>Bachelors</td>\n",
       "      <td>13</td>\n",
       "      <td>Never-married</td>\n",
       "      <td>Adm-clerical</td>\n",
       "      <td>Not-in-family</td>\n",
       "      <td>White</td>\n",
       "      <td>Male</td>\n",
       "      <td>2174</td>\n",
       "      <td>0</td>\n",
       "      <td>40</td>\n",
       "      <td>United-States</td>\n",
       "      <td>&lt;=50K</td>\n",
       "    </tr>\n",
       "    <tr>\n",
       "      <th>1</th>\n",
       "      <td>50</td>\n",
       "      <td>Self-emp-not-inc</td>\n",
       "      <td>83311</td>\n",
       "      <td>Bachelors</td>\n",
       "      <td>13</td>\n",
       "      <td>Married-civ-spouse</td>\n",
       "      <td>Exec-managerial</td>\n",
       "      <td>Husband</td>\n",
       "      <td>White</td>\n",
       "      <td>Male</td>\n",
       "      <td>0</td>\n",
       "      <td>0</td>\n",
       "      <td>13</td>\n",
       "      <td>United-States</td>\n",
       "      <td>&lt;=50K</td>\n",
       "    </tr>\n",
       "    <tr>\n",
       "      <th>2</th>\n",
       "      <td>38</td>\n",
       "      <td>Private</td>\n",
       "      <td>215646</td>\n",
       "      <td>HS-grad</td>\n",
       "      <td>9</td>\n",
       "      <td>Divorced</td>\n",
       "      <td>Handlers-cleaners</td>\n",
       "      <td>Not-in-family</td>\n",
       "      <td>White</td>\n",
       "      <td>Male</td>\n",
       "      <td>0</td>\n",
       "      <td>0</td>\n",
       "      <td>40</td>\n",
       "      <td>United-States</td>\n",
       "      <td>&lt;=50K</td>\n",
       "    </tr>\n",
       "    <tr>\n",
       "      <th>3</th>\n",
       "      <td>53</td>\n",
       "      <td>Private</td>\n",
       "      <td>234721</td>\n",
       "      <td>11th</td>\n",
       "      <td>7</td>\n",
       "      <td>Married-civ-spouse</td>\n",
       "      <td>Handlers-cleaners</td>\n",
       "      <td>Husband</td>\n",
       "      <td>Black</td>\n",
       "      <td>Male</td>\n",
       "      <td>0</td>\n",
       "      <td>0</td>\n",
       "      <td>40</td>\n",
       "      <td>United-States</td>\n",
       "      <td>&lt;=50K</td>\n",
       "    </tr>\n",
       "    <tr>\n",
       "      <th>4</th>\n",
       "      <td>28</td>\n",
       "      <td>Private</td>\n",
       "      <td>338409</td>\n",
       "      <td>Bachelors</td>\n",
       "      <td>13</td>\n",
       "      <td>Married-civ-spouse</td>\n",
       "      <td>Prof-specialty</td>\n",
       "      <td>Wife</td>\n",
       "      <td>Black</td>\n",
       "      <td>Female</td>\n",
       "      <td>0</td>\n",
       "      <td>0</td>\n",
       "      <td>40</td>\n",
       "      <td>Cuba</td>\n",
       "      <td>&lt;=50K</td>\n",
       "    </tr>\n",
       "  </tbody>\n",
       "</table>\n",
       "</div>"
      ],
      "text/plain": [
       "   Age         Workclass  fnlwgt  education  education_num  \\\n",
       "0   39         State-gov   77516  Bachelors             13   \n",
       "1   50  Self-emp-not-inc   83311  Bachelors             13   \n",
       "2   38           Private  215646    HS-grad              9   \n",
       "3   53           Private  234721       11th              7   \n",
       "4   28           Private  338409  Bachelors             13   \n",
       "\n",
       "       marital status         occupation   relationship   Race     Sex  \\\n",
       "0       Never-married       Adm-clerical  Not-in-family  White    Male   \n",
       "1  Married-civ-spouse    Exec-managerial        Husband  White    Male   \n",
       "2            Divorced  Handlers-cleaners  Not-in-family  White    Male   \n",
       "3  Married-civ-spouse  Handlers-cleaners        Husband  Black    Male   \n",
       "4  Married-civ-spouse     Prof-specialty           Wife  Black  Female   \n",
       "\n",
       "   capital_gain  capital_loss  hours_per_week native country income  \n",
       "0          2174             0              40  United-States  <=50K  \n",
       "1             0             0              13  United-States  <=50K  \n",
       "2             0             0              40  United-States  <=50K  \n",
       "3             0             0              40  United-States  <=50K  \n",
       "4             0             0              40           Cuba  <=50K  "
      ]
     },
     "execution_count": 21,
     "metadata": {},
     "output_type": "execute_result"
    }
   ],
   "source": [
    "file = r'E:\\School\\@Grad School\\Data Mining\\Project 1\\adult.data'\n",
    "#file.read()\n",
    "\n",
    "df = pd.read_csv(file, sep=',',\n",
    "                 names=[\"Age\", \"Workclass\", \"fnlwgt\",\"education\", \"education_num\",\"marital status\",\"occupation\",\"relationship\",\"Race\",\"Sex\",\"capital_gain\",\"capital_loss\",\"hours_per_week\",\"native country\",\"income\"],\n",
    "                 skipinitialspace=True)\n",
    "#df.replace(to_replace='?', value=np.nan)\n",
    "df.head()\n"
   ]
  },
  {
   "cell_type": "code",
   "execution_count": 22,
   "metadata": {},
   "outputs": [],
   "source": [
    "def clean_data(df):\n",
    "    df= df.applymap(lambda x: np.nan if x == '?' else x)\n",
    "    df=df.dropna(axis=0)\n",
    "    df.drop('fnlwgt', axis=1, inplace=True)\n",
    "    df.drop('education_num', axis=1, inplace=True)\n",
    "    df['Age'] = pd.cut(df['Age'], [0, 26, 46, 66,100], \n",
    "                        labels = ['Young', 'Middle-aged', 'Senior', 'Old'], \n",
    "                        right = True, include_lowest = True)\n",
    "    df['hours_per_week'] = pd.cut(df['hours_per_week'], [0, 25, 40, 60, 100], \n",
    "                              labels = ['Part-time', 'Full-time', 'Over-time', 'Too-much'], \n",
    "                              right = True, include_lowest = True)\n",
    "    df['capital_gain'] = pd.cut(df['capital_gain'], [0, 1, 10000000], \n",
    "                           labels = ['No-Gain', 'Positive-Gain'], \n",
    "                           right = True, include_lowest = True)\n",
    "    df['capital_loss'] = pd.cut(df['capital_loss'], [0, 1, 10000000],\n",
    "                            labels = ['No-Loss', 'Positive-Loss'], \n",
    "                            right = True, include_lowest = True)\n",
    "\n",
    "\n",
    "    return df"
   ]
  },
  {
   "cell_type": "code",
   "execution_count": 23,
   "metadata": {},
   "outputs": [],
   "source": [
    "dataset = [['M', 'O', 'N', 'K', 'E', 'Y'], \n",
    "            ['D', 'O', 'N', 'K', 'E', 'Y'], \n",
    "            ['M', 'A', 'K', 'E'],\n",
    "            ['M', 'U', 'C', 'K', 'Y'],\n",
    "            ['C', 'O', 'O', 'K', 'I', 'E']]\n",
    "\n",
    "def open_data():\n",
    "    \n",
    "    \n",
    "    data = clean_data(df)\n",
    "    dataset= data.values.tolist()\n",
    "    return dataset\n",
    "dataset= open_data()\n",
    "dataset;"
   ]
  },
  {
   "cell_type": "code",
   "execution_count": 24,
   "metadata": {},
   "outputs": [],
   "source": [
    "#scan data and find support for each item\n",
    "def Scan_D(dataset):\n",
    "    C1 = {}\n",
    "    for item in dataset:\n",
    "        for itemset in item:\n",
    "            if itemset in C1:\n",
    "                C1[itemset] += 1\n",
    "            elif itemset not in C1:\n",
    "                C1[itemset] = 1\n",
    "    return C1\n",
    "C1=Scan_D(open_data())\n",
    "C1;\n"
   ]
  },
  {
   "cell_type": "code",
   "execution_count": 25,
   "metadata": {},
   "outputs": [
    {
     "data": {
      "text/plain": [
       "{'White': 25933,\n",
       " 'Male': 20380,\n",
       " 'No-Loss': 28735,\n",
       " 'United-States': 27504,\n",
       " '<=50K': 22654,\n",
       " 'No-Gain': 27624,\n",
       " 'Private': 22286}"
      ]
     },
     "execution_count": 25,
     "metadata": {},
     "output_type": "execute_result"
    }
   ],
   "source": [
    "#discard infrequent item\n",
    "def frequent (min_sup):\n",
    "    frequent = {k:v for k, v in C1.items() if v >= min_sup*len(dataset)}\n",
    "    return frequent\n",
    "frequent(0.6)"
   ]
  },
  {
   "cell_type": "code",
   "execution_count": 26,
   "metadata": {},
   "outputs": [],
   "source": [
    "def initset (dataset):\n",
    "    initial ={}\n",
    "    for trans in dataset:\n",
    "        initial[tuple(trans)] =1\n",
    "    #print (initial)\n",
    "    return initial\n",
    "initset(dataset);"
   ]
  },
  {
   "cell_type": "code",
   "execution_count": 27,
   "metadata": {
    "scrolled": true
   },
   "outputs": [],
   "source": [
    "#sort the frequent items in descending order based on support count\n",
    "def sort_freq(dataset, min_sup=0.6):\n",
    "    freq = frequent(min_sup)\n",
    "    freq_set = set(freq.keys())\n",
    "    sorted_freq = [] \n",
    "    for trans in dataset:\n",
    "        freq_trans = {}\n",
    "        for item in trans:\n",
    "            if item in freq_set:\n",
    "                freq_trans[item] = freq[item]\n",
    "        if len(freq_trans) > 0:\n",
    "            sort_freq = [val[0] for val in sorted(freq_trans.items(), key=lambda x: x[1], reverse=True)]\n",
    "            sorted_freq.append(sort_freq)\n",
    "    \n",
    "    return sorted_freq\n",
    "#sort_freq(dataset)\n"
   ]
  },
  {
   "cell_type": "code",
   "execution_count": 28,
   "metadata": {},
   "outputs": [],
   "source": [
    "class tree:\n",
    "    def __init__ (self, value, freq, parents):\n",
    "        self.name = value\n",
    "        self.count = freq\n",
    "        self.node_link = None\n",
    "        self.parent = parents\n",
    "        self.children = {}\n",
    "        \n",
    "        \n",
    "    \n",
    "    #increment the count\n",
    "    def inc_count (self, count):\n",
    "        self.count += count\n",
    "        "
   ]
  },
  {
   "cell_type": "code",
   "execution_count": 29,
   "metadata": {},
   "outputs": [],
   "source": [
    "#FP tree\n",
    "def make_tree(dataset, min_sup=.6):\n",
    "    \n",
    "    #first scan  \n",
    "    freq = frequent(min_sup)    \n",
    "    freq_set = set(freq.keys())\n",
    "    if len(freq_set) == 0:\n",
    "        return None, None\n",
    "    \n",
    "    for f in freq:\n",
    "        freq[f]= [freq[f], None]\n",
    "    \n",
    "    root = tree('Null', 1, None)\n",
    "    #i=0\n",
    "    for transaction, count in dataset.items():       \n",
    "        freq_trans = {}  \n",
    "       \n",
    "        for itemset in transaction:\n",
    "            if itemset in freq_set:\n",
    "                freq_trans[itemset] = freq[itemset][0]\n",
    "            \n",
    "        if len(freq_trans) > 0:\n",
    "            sort_freq = [val[0] for val in sorted(freq_trans.items(), key=lambda x:x[1], reverse=True)]\n",
    "            get_path(sort_freq, root, freq, count)\n",
    "            #i+=1\n",
    "    return root, freq"
   ]
  },
  {
   "cell_type": "code",
   "execution_count": 30,
   "metadata": {},
   "outputs": [],
   "source": [
    "def get_path(itemset, root, frequent, count):\n",
    "\n",
    "    if itemset[0] not in root.children:\n",
    "        root.children[itemset[0]] = tree(itemset[0], count, root)\n",
    "        \n",
    "        if frequent[itemset[0]][1] == None:\n",
    "            frequent[itemset[0]][1] = root.children[itemset[0]]\n",
    "        else:\n",
    "            update_nodelink(frequent[itemset[0]][1], root.children[itemset[0]])\n",
    "\n",
    "    else:\n",
    "        root.children[itemset[0]].inc_count(count)\n",
    "    if len(itemset) >1:\n",
    "        get_path(itemset[1::], root.children[itemset[0]], frequent, count)"
   ]
  },
  {
   "cell_type": "code",
   "execution_count": 31,
   "metadata": {},
   "outputs": [],
   "source": [
    "def update_nodelink(test_node, target_node):\n",
    "    while (test_node.node_link != None):\n",
    "        test_node = test_node.node_link\n",
    "    test_node.node_link = target_node"
   ]
  },
  {
   "cell_type": "code",
   "execution_count": 32,
   "metadata": {},
   "outputs": [],
   "source": [
    "#FPtree, count = make_tree(init, 0.6)\n",
    "\n",
    "#myHeaderTab\n",
    "#FPtree.display()\n",
    "#count"
   ]
  },
  {
   "cell_type": "code",
   "execution_count": 33,
   "metadata": {},
   "outputs": [],
   "source": [
    "def go_up(leaf, prefix): #ascends from leaf node to root\n",
    "    if leaf.parent != None:\n",
    "        prefix.append(leaf.name)\n",
    "        go_up(leaf.parent, prefix)"
   ]
  },
  {
   "cell_type": "code",
   "execution_count": 34,
   "metadata": {},
   "outputs": [],
   "source": [
    "def find_prefix(pattern_base, tree): \n",
    "    #node = tree[pattern_base][1][1]\n",
    "    cond_pattern = {}\n",
    "    while tree != None:\n",
    "        prefix = []\n",
    "        go_up(tree, prefix)\n",
    "        if len(prefix) > 1: \n",
    "            cond_pattern[tuple(prefix[1:])] = tree.count\n",
    "        tree = tree.node_link\n",
    "    return cond_pattern"
   ]
  },
  {
   "cell_type": "code",
   "execution_count": 35,
   "metadata": {},
   "outputs": [],
   "source": [
    "#find_prefix('Y',count['Y'][1])"
   ]
  },
  {
   "cell_type": "code",
   "execution_count": 36,
   "metadata": {},
   "outputs": [],
   "source": [
    "def condition_FPtree(FPtree, freq, min_sup,prefix, freq_set):\n",
    "    L=[v[0] for v in sorted(freq.items(),key=lambda x: x[1])]\n",
    "    #=print( L)\n",
    "    \n",
    "    for pattern_base in L:\n",
    "        new_freqset = prefix.copy()\n",
    "        new_freqset.add(pattern_base)\n",
    "        #add frequent itemset to final list of frequent itemsets\n",
    "        freq_set.append(new_freqset)\n",
    "        conditional_pattern_base = find_prefix(pattern_base, freq[pattern_base][1])\n",
    "        #print(conditional_pattern_base)\n",
    "        \n",
    "        if(conditional_pattern_base!={}):\n",
    "            conditional_FPtree, conditional_freq = make_tree(conditional_pattern_base, min_sup)\n",
    "        #conditional_FPtree.display()\n",
    "        \n",
    "            if conditional_freq != None:\n",
    "                condition_FPtree(conditional_FPtree, conditional_freq, min_sup, new_freqset, freq_set)\n"
   ]
  },
  {
   "cell_type": "code",
   "execution_count": 37,
   "metadata": {
    "scrolled": true
   },
   "outputs": [
    {
     "data": {
      "text/plain": [
       "0.17757320404052734"
      ]
     },
     "execution_count": 37,
     "metadata": {},
     "output_type": "execute_result"
    }
   ],
   "source": [
    "init= initset(dataset)\n",
    "s = time.time()\n",
    "FPtree, count = make_tree(init)\n",
    "freq_set=[]\n",
    "condition_FPtree(FPtree, count, 0.1,set([]), freq_set)\n",
    "e = time.time()\n",
    "r=e-s\n",
    "r"
   ]
  },
  {
   "cell_type": "code",
   "execution_count": 38,
   "metadata": {},
   "outputs": [],
   "source": [
    "freq_set; "
   ]
  }
 ],
 "metadata": {
  "kernelspec": {
   "display_name": "Python 3",
   "language": "python",
   "name": "python3"
  },
  "language_info": {
   "codemirror_mode": {
    "name": "ipython",
    "version": 3
   },
   "file_extension": ".py",
   "mimetype": "text/x-python",
   "name": "python",
   "nbconvert_exporter": "python",
   "pygments_lexer": "ipython3",
   "version": "3.7.0"
  }
 },
 "nbformat": 4,
 "nbformat_minor": 2
}
