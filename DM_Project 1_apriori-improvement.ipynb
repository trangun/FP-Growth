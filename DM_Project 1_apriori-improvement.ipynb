{
 "cells": [
  {
   "cell_type": "markdown",
   "metadata": {},
   "source": [
    "Reference: Transaction Reduction http://www.ijsrp.org/research-paper-1301/ijsrp-p1397.pdf "
   ]
  },
  {
   "cell_type": "code",
   "execution_count": 1,
   "metadata": {},
   "outputs": [],
   "source": [
    "import datetime as dt\n",
    "import pandas as pd\n",
    "import numpy as np\n",
    "import random as rand\n",
    "import csv\n",
    "import time\n",
    "import copy\n",
    "from itertools import combinations\n"
   ]
  },
  {
   "cell_type": "code",
   "execution_count": 2,
   "metadata": {
    "scrolled": true
   },
   "outputs": [
    {
     "data": {
      "text/html": [
       "<div>\n",
       "<style scoped>\n",
       "    .dataframe tbody tr th:only-of-type {\n",
       "        vertical-align: middle;\n",
       "    }\n",
       "\n",
       "    .dataframe tbody tr th {\n",
       "        vertical-align: top;\n",
       "    }\n",
       "\n",
       "    .dataframe thead th {\n",
       "        text-align: right;\n",
       "    }\n",
       "</style>\n",
       "<table border=\"1\" class=\"dataframe\">\n",
       "  <thead>\n",
       "    <tr style=\"text-align: right;\">\n",
       "      <th></th>\n",
       "      <th>Age</th>\n",
       "      <th>Workclass</th>\n",
       "      <th>fnlwgt</th>\n",
       "      <th>education</th>\n",
       "      <th>education_num</th>\n",
       "      <th>marital status</th>\n",
       "      <th>occupation</th>\n",
       "      <th>relationship</th>\n",
       "      <th>Race</th>\n",
       "      <th>Sex</th>\n",
       "      <th>capital_gain</th>\n",
       "      <th>capital_loss</th>\n",
       "      <th>hours_per_week</th>\n",
       "      <th>native country</th>\n",
       "      <th>income</th>\n",
       "    </tr>\n",
       "  </thead>\n",
       "  <tbody>\n",
       "    <tr>\n",
       "      <th>0</th>\n",
       "      <td>39</td>\n",
       "      <td>State-gov</td>\n",
       "      <td>77516</td>\n",
       "      <td>Bachelors</td>\n",
       "      <td>13</td>\n",
       "      <td>Never-married</td>\n",
       "      <td>Adm-clerical</td>\n",
       "      <td>Not-in-family</td>\n",
       "      <td>White</td>\n",
       "      <td>Male</td>\n",
       "      <td>2174</td>\n",
       "      <td>0</td>\n",
       "      <td>40</td>\n",
       "      <td>United-States</td>\n",
       "      <td>&lt;=50K</td>\n",
       "    </tr>\n",
       "    <tr>\n",
       "      <th>1</th>\n",
       "      <td>50</td>\n",
       "      <td>Self-emp-not-inc</td>\n",
       "      <td>83311</td>\n",
       "      <td>Bachelors</td>\n",
       "      <td>13</td>\n",
       "      <td>Married-civ-spouse</td>\n",
       "      <td>Exec-managerial</td>\n",
       "      <td>Husband</td>\n",
       "      <td>White</td>\n",
       "      <td>Male</td>\n",
       "      <td>0</td>\n",
       "      <td>0</td>\n",
       "      <td>13</td>\n",
       "      <td>United-States</td>\n",
       "      <td>&lt;=50K</td>\n",
       "    </tr>\n",
       "    <tr>\n",
       "      <th>2</th>\n",
       "      <td>38</td>\n",
       "      <td>Private</td>\n",
       "      <td>215646</td>\n",
       "      <td>HS-grad</td>\n",
       "      <td>9</td>\n",
       "      <td>Divorced</td>\n",
       "      <td>Handlers-cleaners</td>\n",
       "      <td>Not-in-family</td>\n",
       "      <td>White</td>\n",
       "      <td>Male</td>\n",
       "      <td>0</td>\n",
       "      <td>0</td>\n",
       "      <td>40</td>\n",
       "      <td>United-States</td>\n",
       "      <td>&lt;=50K</td>\n",
       "    </tr>\n",
       "    <tr>\n",
       "      <th>3</th>\n",
       "      <td>53</td>\n",
       "      <td>Private</td>\n",
       "      <td>234721</td>\n",
       "      <td>11th</td>\n",
       "      <td>7</td>\n",
       "      <td>Married-civ-spouse</td>\n",
       "      <td>Handlers-cleaners</td>\n",
       "      <td>Husband</td>\n",
       "      <td>Black</td>\n",
       "      <td>Male</td>\n",
       "      <td>0</td>\n",
       "      <td>0</td>\n",
       "      <td>40</td>\n",
       "      <td>United-States</td>\n",
       "      <td>&lt;=50K</td>\n",
       "    </tr>\n",
       "    <tr>\n",
       "      <th>4</th>\n",
       "      <td>28</td>\n",
       "      <td>Private</td>\n",
       "      <td>338409</td>\n",
       "      <td>Bachelors</td>\n",
       "      <td>13</td>\n",
       "      <td>Married-civ-spouse</td>\n",
       "      <td>Prof-specialty</td>\n",
       "      <td>Wife</td>\n",
       "      <td>Black</td>\n",
       "      <td>Female</td>\n",
       "      <td>0</td>\n",
       "      <td>0</td>\n",
       "      <td>40</td>\n",
       "      <td>Cuba</td>\n",
       "      <td>&lt;=50K</td>\n",
       "    </tr>\n",
       "  </tbody>\n",
       "</table>\n",
       "</div>"
      ],
      "text/plain": [
       "   Age         Workclass  fnlwgt  education  education_num  \\\n",
       "0   39         State-gov   77516  Bachelors             13   \n",
       "1   50  Self-emp-not-inc   83311  Bachelors             13   \n",
       "2   38           Private  215646    HS-grad              9   \n",
       "3   53           Private  234721       11th              7   \n",
       "4   28           Private  338409  Bachelors             13   \n",
       "\n",
       "       marital status         occupation   relationship   Race     Sex  \\\n",
       "0       Never-married       Adm-clerical  Not-in-family  White    Male   \n",
       "1  Married-civ-spouse    Exec-managerial        Husband  White    Male   \n",
       "2            Divorced  Handlers-cleaners  Not-in-family  White    Male   \n",
       "3  Married-civ-spouse  Handlers-cleaners        Husband  Black    Male   \n",
       "4  Married-civ-spouse     Prof-specialty           Wife  Black  Female   \n",
       "\n",
       "   capital_gain  capital_loss  hours_per_week native country income  \n",
       "0          2174             0              40  United-States  <=50K  \n",
       "1             0             0              13  United-States  <=50K  \n",
       "2             0             0              40  United-States  <=50K  \n",
       "3             0             0              40  United-States  <=50K  \n",
       "4             0             0              40           Cuba  <=50K  "
      ]
     },
     "execution_count": 2,
     "metadata": {},
     "output_type": "execute_result"
    }
   ],
   "source": [
    "#dataset test\n",
    "file = r'E:\\School\\@Grad School\\Data Mining\\Project 1\\adult.data'\n",
    "#file.read()\n",
    "\n",
    "df = pd.read_csv(file, sep=',',\n",
    "                 names=[\"Age\", \"Workclass\", \"fnlwgt\",\"education\", \"education_num\",\"marital status\",\"occupation\",\"relationship\",\"Race\",\"Sex\",\"capital_gain\",\"capital_loss\",\"hours_per_week\",\"native country\",\"income\"],\n",
    "                 skipinitialspace=True)\n",
    "#df.replace(to_replace='?', value=np.nan)\n",
    "df.head()\n"
   ]
  },
  {
   "cell_type": "code",
   "execution_count": 3,
   "metadata": {},
   "outputs": [],
   "source": [
    "def clean_data(df):\n",
    "    df= df.applymap(lambda x: np.nan if x == '?' else x)\n",
    "    df=df.dropna(axis=0)\n",
    "    df.drop('fnlwgt', axis=1, inplace=True)\n",
    "    df.drop('education_num', axis=1, inplace=True)\n",
    "    df['Age'] = pd.cut(df['Age'], [0, 26, 46, 66,100], \n",
    "                        labels = ['Young', 'Middle-aged', 'Senior', 'Old'], \n",
    "                        right = True, include_lowest = True)\n",
    "    df['hours_per_week'] = pd.cut(df['hours_per_week'], [0, 25, 40, 60, 100], \n",
    "                              labels = ['Part-time', 'Full-time', 'Over-time', 'Too-much'], \n",
    "                              right = True, include_lowest = True)\n",
    "    df['capital_gain'] = pd.cut(df['capital_gain'], [0, 1, 10000000], \n",
    "                           labels = ['No-Gain', 'Positive-Gain'], \n",
    "                           right = True, include_lowest = True)\n",
    "    df['capital_loss'] = pd.cut(df['capital_loss'], [0, 1, 10000000],\n",
    "                            labels = ['No-Loss', 'Positive-Loss'], \n",
    "                            right = True, include_lowest = True)\n",
    "\n",
    "\n",
    "    return df"
   ]
  },
  {
   "cell_type": "code",
   "execution_count": 4,
   "metadata": {},
   "outputs": [],
   "source": [
    "data = [['M', 'O', 'N', 'K', 'E', 'Y'], \n",
    "            ['D', 'O', 'N', 'K', 'E', 'Y'], \n",
    "            ['M', 'A', 'K', 'E'],\n",
    "            ['M', 'U', 'C', 'K', 'Y'],\n",
    "            ['C', 'O', 'O', 'K', 'I', 'E']]\n",
    "\n",
    "def open_data():\n",
    "    \n",
    "    \n",
    "    data = clean_data(df)\n",
    "    dataset= data.values.tolist()\n",
    "    return dataset\n",
    "dataset= open_data()\n",
    "dataset;"
   ]
  },
  {
   "cell_type": "code",
   "execution_count": 5,
   "metadata": {},
   "outputs": [],
   "source": [
    "#obtain C1 with support count\n",
    "\n",
    "\n",
    "def obtain_C1(dataset):\n",
    "    C1 = {}\n",
    "    for item in dataset:\n",
    "        for itemset in item:\n",
    "            if itemset in C1:\n",
    "                C1[itemset] += 1\n",
    "            elif itemset not in C1:\n",
    "                C1[itemset] = 1\n",
    "    return C1\n",
    "            \n",
    "\n",
    "            \n",
    "C1=obtain_C1(open_data())\n",
    "C1;"
   ]
  },
  {
   "cell_type": "code",
   "execution_count": 6,
   "metadata": {
    "scrolled": true
   },
   "outputs": [
    {
     "data": {
      "text/plain": [
       "['White', 'Male', 'No-Loss', 'United-States', '<=50K', 'No-Gain', 'Private']"
      ]
     },
     "execution_count": 6,
     "metadata": {},
     "output_type": "execute_result"
    }
   ],
   "source": [
    "#frequent 1-itemset\n",
    "def gen_L1 (min_sup):\n",
    "    L1 = []\n",
    "    #delete = []\n",
    "    num_items = float(len(dataset))\n",
    "    #print(num_items)\n",
    "   \n",
    "    for item in C1:\n",
    "        support = C1[item]/num_items\n",
    "        if support >= min_sup:\n",
    "            L1.append(item)\n",
    "            for trans in dataset:\n",
    "                if len(trans) == 1:\n",
    "                    dataset.remove(trans)\n",
    "    #for trans in dataset:\n",
    "        #if not set(L1).issubset(trans):\n",
    "            #dataset.remove(trans)\n",
    "    #print(len(dataset))      \n",
    "    #L1 = {k:v for k, v in C1.items() if v >= min_sup*num_items}\n",
    "    #print(delete, 'delete')         \n",
    "    return L1\n",
    "          \n",
    "L1=gen_L1(0.6)\n",
    "L1"
   ]
  },
  {
   "cell_type": "code",
   "execution_count": 7,
   "metadata": {},
   "outputs": [],
   "source": [
    "\n",
    "#generate Ck\n",
    "def apriori_gen(L, k):  \n",
    "    count={}\n",
    "    Ck = list(combinations(L, k))\n",
    "    #Ck_ver2 = list(combinations(L, k))\n",
    "    #Ck = []\n",
    "    #lenL = len(L) \n",
    "    #print(Ck)\n",
    "    \n",
    "  \n",
    "    return Ck\n",
    "\n",
    "#C2 = apriori_gen(L1,2)\n",
    "#C2"
   ]
  },
  {
   "cell_type": "code",
   "execution_count": 8,
   "metadata": {},
   "outputs": [],
   "source": [
    "#find Lk\n",
    "def prune (dataset, Ck, min_sup,k):\n",
    "    count={}\n",
    "        \n",
    "    for item in dataset:\n",
    "        for itemset in Ck:\n",
    "            if set(itemset).issubset(item):\n",
    "                if itemset in count:\n",
    "                    count[itemset] += 1\n",
    "                else:\n",
    "                    count[itemset] = 1\n",
    "    #print(count)\n",
    "    #generate Lk \n",
    "    num_items = float(len(dataset))\n",
    "    #print(len(dt))\n",
    "    Lk = []\n",
    "    #copy_count = copy.deepcopy(count)\n",
    "    for itemset in count:\n",
    "        support = count[itemset]/num_items\n",
    "        if support >= min_sup:\n",
    "            Lk.append(itemset)\n",
    "            for trans in dataset:\n",
    "                if len(trans) == 1:\n",
    "                    dataset.remove(trans)\n",
    "    #for trans in dataset:\n",
    "        #if not set(Lk).issubset(trans):\n",
    "            #dataset.remove(trans)\n",
    "        \n",
    "    #print(len(dataset))    \n",
    "    return Lk\n",
    "#prune(dataset,C2, .6,2)\n",
    "#dataset"
   ]
  },
  {
   "cell_type": "code",
   "execution_count": 9,
   "metadata": {},
   "outputs": [],
   "source": [
    "def apriori(dataset, min_sup=0.7):\n",
    "    C1 = obtain_C1(dataset)\n",
    "    L1= gen_L1(min_sup)\n",
    "    D= dataset\n",
    "    #Lk=[]\n",
    "    #count={}\n",
    "    L =[]\n",
    "    L.append(L1)\n",
    "    k=2\n",
    "    while len(L[k-2]) >0:    \n",
    "        Ck =  apriori_gen(L1, k)\n",
    "       \n",
    "        Lk = prune(D, Ck, min_sup,k)\n",
    "        #del_value(D, Lk, L[k-2])\n",
    "        #del_transaction(D, Lk,k)\n",
    "        \n",
    "        L.append(Lk)\n",
    "        \n",
    "        k+=1\n",
    "    #return L, support_data\n",
    "    return L[0:len(L)-1]\n",
    "                "
   ]
  },
  {
   "cell_type": "code",
   "execution_count": 10,
   "metadata": {
    "scrolled": false
   },
   "outputs": [
    {
     "data": {
      "text/plain": [
       "12.833027362823486"
      ]
     },
     "execution_count": 10,
     "metadata": {},
     "output_type": "execute_result"
    }
   ],
   "source": [
    "start = time.time()\n",
    "apriori(dataset,0.5)\n",
    "run_time = time.time() -start\n",
    "run_time"
   ]
  },
  {
   "cell_type": "code",
   "execution_count": 11,
   "metadata": {
    "scrolled": true
   },
   "outputs": [
    {
     "data": {
      "text/plain": [
       "[['White', 'No-Loss', 'United-States', '<=50K', 'No-Gain', 'Private'],\n",
       " [('White', 'No-Loss'),\n",
       "  ('White', 'United-States'),\n",
       "  ('No-Loss', 'United-States'),\n",
       "  ('No-Loss', '<=50K'),\n",
       "  ('White', 'No-Gain'),\n",
       "  ('No-Loss', 'No-Gain'),\n",
       "  ('United-States', 'No-Gain'),\n",
       "  ('<=50K', 'No-Gain'),\n",
       "  ('No-Loss', 'Private')],\n",
       " [('White', 'No-Loss', 'United-States'),\n",
       "  ('White', 'No-Loss', 'No-Gain'),\n",
       "  ('White', 'United-States', 'No-Gain'),\n",
       "  ('No-Loss', 'United-States', 'No-Gain')]]"
      ]
     },
     "execution_count": 11,
     "metadata": {},
     "output_type": "execute_result"
    }
   ],
   "source": [
    "apriori(dataset)"
   ]
  }
 ],
 "metadata": {
  "kernelspec": {
   "display_name": "Python 3",
   "language": "python",
   "name": "python3"
  },
  "language_info": {
   "codemirror_mode": {
    "name": "ipython",
    "version": 3
   },
   "file_extension": ".py",
   "mimetype": "text/x-python",
   "name": "python",
   "nbconvert_exporter": "python",
   "pygments_lexer": "ipython3",
   "version": "3.7.0"
  }
 },
 "nbformat": 4,
 "nbformat_minor": 2
}
